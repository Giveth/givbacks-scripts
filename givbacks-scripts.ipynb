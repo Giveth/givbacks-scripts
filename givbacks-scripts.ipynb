{
 "cells": [
  {
   "cell_type": "markdown",
   "id": "ac18eec0",
   "metadata": {},
   "source": [
    "# GIVbacks Scripts"
   ]
  },
  {
   "cell_type": "markdown",
   "id": "dd78555c",
   "metadata": {},
   "source": [
    "This Jupyter Notebook calculates GIVbacks rewards for GIVers. For more detailed information about the specs behind the distribution, check the [README](https://github.com/Giveth/givbacks-scripts)."
   ]
  },
  {
   "cell_type": "code",
   "execution_count": 2,
   "id": "fdffc22b",
   "metadata": {},
   "outputs": [],
   "source": [
    "import json\n",
    "import requests\n",
    "import pandas as pd\n",
    "from web3 import Web3\n",
    "from graphqlclient import GraphQLClient"
   ]
  },
  {
   "cell_type": "markdown",
   "id": "d13675c4",
   "metadata": {},
   "source": [
    "*Reminder: change the variables below before running all cells.*"
   ]
  },
  {
   "cell_type": "code",
   "execution_count": 3,
   "id": "33ffebc1",
   "metadata": {},
   "outputs": [],
   "source": [
    "# Date Format: YYYY/MM/DD-HH:MM:SS\n",
    "\n",
    "START_DATE = '2018/05/01-00:00:00'\n",
    "END_DATE = '2021/12/31-00:00:00'\n",
    "\n",
    "ROUND = 1\n",
    "\n",
    "GIV_PRICE = 1\n",
    "GIV_AVAILABLE = 1000\n",
    "GIV_MAX_FACTOR = 0.75"
   ]
  },
  {
   "cell_type": "markdown",
   "id": "7cc1dcf2",
   "metadata": {},
   "source": [
    "## Fetching TRACE donations"
   ]
  },
  {
   "cell_type": "markdown",
   "id": "f0262383",
   "metadata": {},
   "source": [
    "First, we fetch donations made at Giveth TRACE. It's not necessary to make many data manipulations since the API already returns the data formatted."
   ]
  },
  {
   "cell_type": "code",
   "execution_count": 33,
   "id": "ac9e8f60",
   "metadata": {},
   "outputs": [],
   "source": [
    "BASE_TRACE_URL = 'https://feathers.beta.giveth.io/'\n",
    "\n",
    "# TO-DO: Remove allProjects=true to fetch only verified projects\n",
    "TRACE_ENDPOINT = f'{BASE_TRACE_URL}verifiedProjectsGiversReport?fromDate={START_DATE}&toDate={END_DATE}&allProjects=true'"
   ]
  },
  {
   "cell_type": "code",
   "execution_count": 6,
   "id": "598d51a1",
   "metadata": {},
   "outputs": [],
   "source": [
    "response = requests.get(TRACE_ENDPOINT)\n",
    "\n",
    "trace_data = response.json()['data']\n",
    "\n",
    "trace_df = pd.DataFrame(trace_data)"
   ]
  },
  {
   "cell_type": "code",
   "execution_count": 7,
   "id": "95dffaf8",
   "metadata": {},
   "outputs": [],
   "source": [
    "trace_df = trace_df[['giverAddress', 'totalAmount']]\n",
    "trace_df = trace_df.rename(columns={'totalAmount': 'totalUsd'})\n",
    "trace_df['giverAddress'] = trace_df['giverAddress'].str.lower()"
   ]
  },
  {
   "cell_type": "code",
   "execution_count": 10,
   "id": "40eac1a9",
   "metadata": {},
   "outputs": [
    {
     "data": {
      "text/html": [
       "<div>\n",
       "<style scoped>\n",
       "    .dataframe tbody tr th:only-of-type {\n",
       "        vertical-align: middle;\n",
       "    }\n",
       "\n",
       "    .dataframe tbody tr th {\n",
       "        vertical-align: top;\n",
       "    }\n",
       "\n",
       "    .dataframe thead th {\n",
       "        text-align: right;\n",
       "    }\n",
       "</style>\n",
       "<table border=\"1\" class=\"dataframe\">\n",
       "  <thead>\n",
       "    <tr style=\"text-align: right;\">\n",
       "      <th></th>\n",
       "      <th>giverAddress</th>\n",
       "      <th>totalUsd</th>\n",
       "    </tr>\n",
       "  </thead>\n",
       "  <tbody>\n",
       "    <tr>\n",
       "      <th>0</th>\n",
       "      <td>0x10a84b835c5df26f2a380b3e00bcc84a66cd2d34</td>\n",
       "      <td>16488.45</td>\n",
       "    </tr>\n",
       "    <tr>\n",
       "      <th>1</th>\n",
       "      <td>0x839395e20bbb182fa440d08f850e6c7a8f6f0780</td>\n",
       "      <td>14942.97</td>\n",
       "    </tr>\n",
       "    <tr>\n",
       "      <th>2</th>\n",
       "      <td>0xf12df5ba9eadb67dda0702aaa27e813b9ef76d03</td>\n",
       "      <td>12246.66</td>\n",
       "    </tr>\n",
       "    <tr>\n",
       "      <th>3</th>\n",
       "      <td>0x236daa98f115caa9991a3894ae387cdc13eaad1b</td>\n",
       "      <td>8254.00</td>\n",
       "    </tr>\n",
       "    <tr>\n",
       "      <th>4</th>\n",
       "      <td>0x90f8bf6a479f320ead074411a4b0e7944ea8c9c1</td>\n",
       "      <td>7445.33</td>\n",
       "    </tr>\n",
       "  </tbody>\n",
       "</table>\n",
       "</div>"
      ],
      "text/plain": [
       "                                 giverAddress  totalUsd\n",
       "0  0x10a84b835c5df26f2a380b3e00bcc84a66cd2d34  16488.45\n",
       "1  0x839395e20bbb182fa440d08f850e6c7a8f6f0780  14942.97\n",
       "2  0xf12df5ba9eadb67dda0702aaa27e813b9ef76d03  12246.66\n",
       "3  0x236daa98f115caa9991a3894ae387cdc13eaad1b   8254.00\n",
       "4  0x90f8bf6a479f320ead074411a4b0e7944ea8c9c1   7445.33"
      ]
     },
     "execution_count": 10,
     "metadata": {},
     "output_type": "execute_result"
    }
   ],
   "source": [
    "trace_df.head()"
   ]
  },
  {
   "cell_type": "markdown",
   "id": "76f13812",
   "metadata": {},
   "source": [
    "## Fetching Giveth donations"
   ]
  },
  {
   "cell_type": "markdown",
   "id": "d739c713",
   "metadata": {},
   "source": [
    "Then, we fetch donations made at Giveth. The GraphQL API returns all donations, consequently, we need to filter them."
   ]
  },
  {
   "cell_type": "code",
   "execution_count": 11,
   "id": "cdd328c0",
   "metadata": {},
   "outputs": [],
   "source": [
    "GIVETH_ENDPOINT = 'https://mainnet.serve.giveth.io/graphql/'"
   ]
  },
  {
   "cell_type": "code",
   "execution_count": 12,
   "id": "29e8e09b",
   "metadata": {},
   "outputs": [],
   "source": [
    "client = GraphQLClient(GIVETH_ENDPOINT)\n",
    "\n",
    "query = '''\n",
    "{\n",
    "  donations {\n",
    "    valueUsd  \n",
    "    createdAt\n",
    "    project {\n",
    "      giveBacks\n",
    "    }\n",
    "    user {\n",
    "      walletAddress\n",
    "    }\n",
    "  }\n",
    "}\n",
    "'''\n",
    "\n",
    "result = client.execute(query)\n"
   ]
  },
  {
   "cell_type": "code",
   "execution_count": 13,
   "id": "7ec37b12",
   "metadata": {},
   "outputs": [],
   "source": [
    "giveth_data = json.loads(result)['data']['donations']\n",
    "\n",
    "giveth_df = pd.DataFrame(giveth_data)"
   ]
  },
  {
   "cell_type": "code",
   "execution_count": 14,
   "id": "48733218",
   "metadata": {},
   "outputs": [],
   "source": [
    "giveth_df = giveth_df.dropna()"
   ]
  },
  {
   "cell_type": "code",
   "execution_count": 15,
   "id": "f19b8137",
   "metadata": {},
   "outputs": [],
   "source": [
    "START_TIMESTAMP = pd.to_datetime(START_DATE).tz_localize('utc')\n",
    "END_TIMESTAMP = pd.to_datetime(END_DATE).tz_localize('utc')\n",
    "\n",
    "giveth_df['createdAt'] = pd.to_datetime(giveth_df['createdAt'])\n",
    "\n",
    "giveth_df = giveth_df[\n",
    "    (giveth_df['createdAt'] >= START_TIMESTAMP) & \n",
    "    (giveth_df['createdAt'] < END_TIMESTAMP)\n",
    "]"
   ]
  },
  {
   "cell_type": "code",
   "execution_count": 16,
   "id": "90d0f5dd",
   "metadata": {},
   "outputs": [],
   "source": [
    "giveth_df['giverAddress'] = giveth_df['user'].map(lambda x: x['walletAddress'].lower())\n",
    "giveth_df['isVerified'] = giveth_df['project'].map(lambda x: x['giveBacks'])"
   ]
  },
  {
   "cell_type": "code",
   "execution_count": 17,
   "id": "2eaf607f",
   "metadata": {},
   "outputs": [],
   "source": [
    "# TO-DO: Change condition to keep only verified projects \n",
    "giveth_df = giveth_df[giveth_df['isVerified'] == False]"
   ]
  },
  {
   "cell_type": "code",
   "execution_count": 18,
   "id": "78e265e4",
   "metadata": {},
   "outputs": [],
   "source": [
    "giveth_df = giveth_df[['giverAddress', 'valueUsd']]"
   ]
  },
  {
   "cell_type": "code",
   "execution_count": 19,
   "id": "559f7f0f",
   "metadata": {},
   "outputs": [],
   "source": [
    "giveth_df = giveth_df.groupby('giverAddress')['valueUsd'].sum().reset_index().rename(columns={'valueUsd':'totalUsd'})"
   ]
  },
  {
   "cell_type": "code",
   "execution_count": 20,
   "id": "548eca54",
   "metadata": {},
   "outputs": [
    {
     "data": {
      "text/html": [
       "<div>\n",
       "<style scoped>\n",
       "    .dataframe tbody tr th:only-of-type {\n",
       "        vertical-align: middle;\n",
       "    }\n",
       "\n",
       "    .dataframe tbody tr th {\n",
       "        vertical-align: top;\n",
       "    }\n",
       "\n",
       "    .dataframe thead th {\n",
       "        text-align: right;\n",
       "    }\n",
       "</style>\n",
       "<table border=\"1\" class=\"dataframe\">\n",
       "  <thead>\n",
       "    <tr style=\"text-align: right;\">\n",
       "      <th></th>\n",
       "      <th>giverAddress</th>\n",
       "      <th>totalUsd</th>\n",
       "    </tr>\n",
       "  </thead>\n",
       "  <tbody>\n",
       "    <tr>\n",
       "      <th>0</th>\n",
       "      <td>0x001fbfe0e74adedea03e6ad3e2fc1eee1a2d5045</td>\n",
       "      <td>6.000000</td>\n",
       "    </tr>\n",
       "    <tr>\n",
       "      <th>1</th>\n",
       "      <td>0x0023d9ffe7d793895c5da5833d56c737832ead2b</td>\n",
       "      <td>3.300000</td>\n",
       "    </tr>\n",
       "    <tr>\n",
       "      <th>2</th>\n",
       "      <td>0x00d18ca9782be1caef611017c2fbc1a39779a57c</td>\n",
       "      <td>1847.998038</td>\n",
       "    </tr>\n",
       "    <tr>\n",
       "      <th>3</th>\n",
       "      <td>0x00df99e12315cac90f49527b07d753b7fe9faccd</td>\n",
       "      <td>1.100000</td>\n",
       "    </tr>\n",
       "    <tr>\n",
       "      <th>4</th>\n",
       "      <td>0x013274aa75bbc3bd7acff906e564edbbb50dce08</td>\n",
       "      <td>1.100000</td>\n",
       "    </tr>\n",
       "  </tbody>\n",
       "</table>\n",
       "</div>"
      ],
      "text/plain": [
       "                                 giverAddress     totalUsd\n",
       "0  0x001fbfe0e74adedea03e6ad3e2fc1eee1a2d5045     6.000000\n",
       "1  0x0023d9ffe7d793895c5da5833d56c737832ead2b     3.300000\n",
       "2  0x00d18ca9782be1caef611017c2fbc1a39779a57c  1847.998038\n",
       "3  0x00df99e12315cac90f49527b07d753b7fe9faccd     1.100000\n",
       "4  0x013274aa75bbc3bd7acff906e564edbbb50dce08     1.100000"
      ]
     },
     "execution_count": 20,
     "metadata": {},
     "output_type": "execute_result"
    }
   ],
   "source": [
    "giveth_df.head()"
   ]
  },
  {
   "cell_type": "markdown",
   "id": "20d6b73e",
   "metadata": {},
   "source": [
    "## Merging donations datasets"
   ]
  },
  {
   "cell_type": "markdown",
   "id": "a72670f9",
   "metadata": {},
   "source": [
    "After fetching donations, we merge both datasets and sum the total donated by GIVer."
   ]
  },
  {
   "cell_type": "code",
   "execution_count": 21,
   "id": "d1b70c99",
   "metadata": {},
   "outputs": [],
   "source": [
    "donations = pd.concat([giveth_df, trace_df])\n",
    "\n",
    "donations['giverAddress'] = donations['giverAddress'].apply(Web3.toChecksumAddress)"
   ]
  },
  {
   "cell_type": "code",
   "execution_count": 22,
   "id": "d7d4751b",
   "metadata": {},
   "outputs": [],
   "source": [
    "donations = donations.groupby('giverAddress').sum()"
   ]
  },
  {
   "cell_type": "code",
   "execution_count": 23,
   "id": "bd29b7e8",
   "metadata": {},
   "outputs": [
    {
     "data": {
      "text/html": [
       "<div>\n",
       "<style scoped>\n",
       "    .dataframe tbody tr th:only-of-type {\n",
       "        vertical-align: middle;\n",
       "    }\n",
       "\n",
       "    .dataframe tbody tr th {\n",
       "        vertical-align: top;\n",
       "    }\n",
       "\n",
       "    .dataframe thead th {\n",
       "        text-align: right;\n",
       "    }\n",
       "</style>\n",
       "<table border=\"1\" class=\"dataframe\">\n",
       "  <thead>\n",
       "    <tr style=\"text-align: right;\">\n",
       "      <th></th>\n",
       "      <th>totalUsd</th>\n",
       "    </tr>\n",
       "    <tr>\n",
       "      <th>giverAddress</th>\n",
       "      <th></th>\n",
       "    </tr>\n",
       "  </thead>\n",
       "  <tbody>\n",
       "    <tr>\n",
       "      <th>0x001fbfe0E74aDedeA03e6Ad3e2Fc1eee1a2d5045</th>\n",
       "      <td>6.000000</td>\n",
       "    </tr>\n",
       "    <tr>\n",
       "      <th>0x0023d9ffe7D793895c5dA5833d56c737832Ead2b</th>\n",
       "      <td>3.300000</td>\n",
       "    </tr>\n",
       "    <tr>\n",
       "      <th>0x00d18ca9782bE1CaEF611017c2Fbc1a39779A57C</th>\n",
       "      <td>1847.998038</td>\n",
       "    </tr>\n",
       "    <tr>\n",
       "      <th>0x00dF99E12315Cac90f49527b07D753b7FE9fAcCd</th>\n",
       "      <td>1.100000</td>\n",
       "    </tr>\n",
       "    <tr>\n",
       "      <th>0x00dcc3E8378D898F7eDB0C35d69b2E38E02319ba</th>\n",
       "      <td>74.160000</td>\n",
       "    </tr>\n",
       "    <tr>\n",
       "      <th>...</th>\n",
       "      <td>...</td>\n",
       "    </tr>\n",
       "    <tr>\n",
       "      <th>0xfF7b5469f1703eB9C54297dB9f56e1d8AA4d60e5</th>\n",
       "      <td>2.200000</td>\n",
       "    </tr>\n",
       "    <tr>\n",
       "      <th>0xfa32aB6215Fea5e34D32a0180FF75359Bf9A1A94</th>\n",
       "      <td>2.830000</td>\n",
       "    </tr>\n",
       "    <tr>\n",
       "      <th>0xfc8aCF3Cbbf75Fb0e53CCeCeA657b31723BE51Fd</th>\n",
       "      <td>1.100000</td>\n",
       "    </tr>\n",
       "    <tr>\n",
       "      <th>0xfed18626160EeB690C0C7c7c1541001dF85b2D01</th>\n",
       "      <td>2.300000</td>\n",
       "    </tr>\n",
       "    <tr>\n",
       "      <th>0xff1235F2a221459C2cC389183752f1478686d213</th>\n",
       "      <td>0.430000</td>\n",
       "    </tr>\n",
       "  </tbody>\n",
       "</table>\n",
       "<p>966 rows × 1 columns</p>\n",
       "</div>"
      ],
      "text/plain": [
       "                                               totalUsd\n",
       "giverAddress                                           \n",
       "0x001fbfe0E74aDedeA03e6Ad3e2Fc1eee1a2d5045     6.000000\n",
       "0x0023d9ffe7D793895c5dA5833d56c737832Ead2b     3.300000\n",
       "0x00d18ca9782bE1CaEF611017c2Fbc1a39779A57C  1847.998038\n",
       "0x00dF99E12315Cac90f49527b07D753b7FE9fAcCd     1.100000\n",
       "0x00dcc3E8378D898F7eDB0C35d69b2E38E02319ba    74.160000\n",
       "...                                                 ...\n",
       "0xfF7b5469f1703eB9C54297dB9f56e1d8AA4d60e5     2.200000\n",
       "0xfa32aB6215Fea5e34D32a0180FF75359Bf9A1A94     2.830000\n",
       "0xfc8aCF3Cbbf75Fb0e53CCeCeA657b31723BE51Fd     1.100000\n",
       "0xfed18626160EeB690C0C7c7c1541001dF85b2D01     2.300000\n",
       "0xff1235F2a221459C2cC389183752f1478686d213     0.430000\n",
       "\n",
       "[966 rows x 1 columns]"
      ]
     },
     "execution_count": 23,
     "metadata": {},
     "output_type": "execute_result"
    }
   ],
   "source": [
    "donations"
   ]
  },
  {
   "cell_type": "markdown",
   "id": "56f4ac17",
   "metadata": {},
   "source": [
    "## Checking how much GIV will be distributed"
   ]
  },
  {
   "cell_type": "markdown",
   "id": "77851897",
   "metadata": {},
   "source": [
    "The amount of GIV tokens to distributed is defined below. Check the [README](https://github.com/Giveth/givbacks-scripts) for more detailed information."
   ]
  },
  {
   "cell_type": "code",
   "execution_count": 25,
   "id": "3b56c36c",
   "metadata": {},
   "outputs": [],
   "source": [
    "TOTAL_RAISED = donations['totalUsd'].sum()\n",
    "\n",
    "GIV_WORTH = GIV_PRICE * GIV_AVAILABLE"
   ]
  },
  {
   "cell_type": "code",
   "execution_count": 26,
   "id": "780cb960",
   "metadata": {},
   "outputs": [],
   "source": [
    "if TOTAL_RAISED > GIV_WORTH:\n",
    "    GIV_DISTRIBUTED = GIV_AVAILABLE\n",
    "else:\n",
    "    GIV_DISTRIBUTED = GIV_MAX_FACTOR * TOTAL_RAISED / GIV_PRICE"
   ]
  },
  {
   "cell_type": "markdown",
   "id": "8907eda5",
   "metadata": {},
   "source": [
    "## Calculating GIVbacks"
   ]
  },
  {
   "cell_type": "markdown",
   "id": "80fabaaf",
   "metadata": {},
   "source": [
    "With the amount of GIV, we can distribute the tokens to the GIVers proportionally to their donations."
   ]
  },
  {
   "cell_type": "code",
   "execution_count": 27,
   "id": "2c86291c",
   "metadata": {},
   "outputs": [],
   "source": [
    "donations['share'] = donations['totalUsd'] / TOTAL_RAISED"
   ]
  },
  {
   "cell_type": "code",
   "execution_count": 28,
   "id": "0d1ae616",
   "metadata": {},
   "outputs": [],
   "source": [
    "donations['givbacks'] = GIV_DISTRIBUTED * donations['share']"
   ]
  },
  {
   "cell_type": "code",
   "execution_count": 30,
   "id": "e832535a",
   "metadata": {},
   "outputs": [
    {
     "data": {
      "text/plain": [
       "1000.0"
      ]
     },
     "execution_count": 30,
     "metadata": {},
     "output_type": "execute_result"
    }
   ],
   "source": [
    "donations['givbacks'].sum()"
   ]
  },
  {
   "cell_type": "markdown",
   "id": "60dcdbe2",
   "metadata": {},
   "source": [
    "Finally, the report is generated and stored in the `reports` folder."
   ]
  },
  {
   "cell_type": "code",
   "execution_count": 32,
   "id": "fd501116",
   "metadata": {},
   "outputs": [],
   "source": [
    "filename = f'reports/{ROUND}.json'\n",
    "\n",
    "report = donations['givbacks'].apply(lambda x: format(x, f'.{12}f'))\n",
    "\n",
    "report.to_json(filename, indent=4)"
   ]
  }
 ],
 "metadata": {
  "kernelspec": {
   "display_name": "givback-kernel",
   "language": "python",
   "name": "givback-kernel"
  },
  "language_info": {
   "codemirror_mode": {
    "name": "ipython",
    "version": 3
   },
   "file_extension": ".py",
   "mimetype": "text/x-python",
   "name": "python",
   "nbconvert_exporter": "python",
   "pygments_lexer": "ipython3",
   "version": "3.9.7"
  }
 },
 "nbformat": 4,
 "nbformat_minor": 5
}
